{
 "cells": [
  {
   "cell_type": "code",
   "execution_count": 1,
   "metadata": {},
   "outputs": [],
   "source": [
    "from rackam_datastore import rackam_datastore as rackam\n",
    "import datetime"
   ]
  },
  {
   "cell_type": "code",
   "execution_count": 2,
   "metadata": {},
   "outputs": [],
   "source": [
    "store = rackam.rackam_datastore('LIVE')"
   ]
  },
  {
   "cell_type": "code",
   "execution_count": 3,
   "metadata": {
    "scrolled": false
   },
   "outputs": [
    {
     "name": "stdout",
     "output_type": "stream",
     "text": [
      "Help on instance of rackam_datastore in module rackam_datastore.rackam_datastore:\n",
      "\n",
      "class rackam_datastore\n",
      " |  Methods defined here:\n",
      " |  \n",
      " |  __del__(self)\n",
      " |  \n",
      " |  __init__(self, env)\n",
      " |  \n",
      " |  closedatastore(self)\n",
      " |  \n",
      " |  createSecurity(self, identifier_dict, metadata_dict={}, livedate=datetime.datetime(1900, 1, 1, 9, 0))\n",
      " |  \n",
      " |  getIdentifiers(self, uid)\n",
      " |  \n",
      " |  getMetaFunction(self, uid)\n",
      " |  \n",
      " |  getMetadata(self, uid)\n",
      " |  \n",
      " |  getSecurity(self, identifier)\n",
      " |  \n",
      " |  getSecurityData(self, uid)\n",
      " |  \n",
      " |  getSecurityFromMetadata(self, metadata_query, asofdate=datetime.datetime(2017, 10, 6, 17, 34, 50, 552000))\n",
      " |  \n",
      " |  getSecurityToDate(self, uid)\n",
      " |  \n",
      " |  list_securities(self)\n",
      " |  \n",
      " |  saveMetaFunction(self, uid, data)\n",
      " |  \n",
      " |  saveMetadata(self, uid, metadata_json)\n",
      " |  \n",
      " |  saveSecurityData(self, uid, raw_data)\n",
      " |  \n",
      " |  updateSecurityData(self, uid, raw_data)\n",
      "\n"
     ]
    }
   ],
   "source": [
    "help(store)"
   ]
  },
  {
   "cell_type": "code",
   "execution_count": 4,
   "metadata": {},
   "outputs": [
    {
     "data": {
      "text/plain": [
       "[{u'Bloomberg': u'ABEEHYA LX'},\n",
       " {u'Bloomberg': u'DEHYCLC LX'},\n",
       " {u'Bloomberg': u'SBCEHBI LX'},\n",
       " {u'Bloomberg': u'NIMEHEU LX'},\n",
       " {u'Bloomberg': u'EUR003M'},\n",
       " {u'Bloomberg': u'DEXHISI LX'},\n",
       " {u'Bloomberg': u'GAMSCOE ID'},\n",
       " {u'Bloomberg': u'AFCGIEC LX'},\n",
       " {u'Bloomberg': u'SPIFELT LX'},\n",
       " {u'Bloomberg': u'LDNCACI LX'},\n",
       " {u'Bloomberg': u'JGGLCIE LX'},\n",
       " {u'Bloomberg': u'CARCONV FP'},\n",
       " {u'Bloomberg': u'PAEUSIC LX'},\n",
       " {u'Bloomberg': u'PARECPC LX'},\n",
       " {u'Bloomberg': u'PIESTIE LX'},\n",
       " {u'Bloomberg': u'NESTCIA LX'},\n",
       " {u'Bloomberg': u'IESTAAE LX'},\n",
       " {u'Bloomberg': u'AEIGBIT LX'},\n",
       " {u'Bloomberg': u'BBIGEIB LX'},\n",
       " {u'Bloomberg': u'FECBAAE LX'}]"
      ]
     },
     "execution_count": 4,
     "metadata": {},
     "output_type": "execute_result"
    }
   ],
   "source": [
    "store.list_securities()"
   ]
  },
  {
   "cell_type": "code",
   "execution_count": 5,
   "metadata": {},
   "outputs": [],
   "source": [
    "#Create the identifier dictionary\n",
    "id_dict = {}\n",
    "id_dict['Bloomberg']='BBINGRR LX'\n",
    "\n",
    "#Create the metadata dict\n",
    "meta_dict = {}\n",
    "meta_dict['type'] = 'Fund'\n",
    "meta_dict['name'] = 'BlueBay Investment Grade Bond Fund'\n",
    "meta_dict['geography'] = 'Europe'\n",
    "meta_dict['ccy'] = 'EUR'\n",
    "meta_dict['strategy']='Investment Grade'\n",
    "#meta_dict['ESG']='Yes'\n",
    "\n",
    "#Create the security in the DB\n",
    "store.createSecurity(id_dict, meta_dict, livedate=datetime.datetime(2006, 3, 28, 0, 0, 0, 0))"
   ]
  },
  {
   "cell_type": "code",
   "execution_count": 21,
   "metadata": {},
   "outputs": [
    {
     "data": {
      "text/plain": [
       "[{u'Bloomberg': u'ABEEHYA LX'},\n",
       " {u'Bloomberg': u'DEHYCLC LX'},\n",
       " {u'Bloomberg': u'SBCEHBI LX'},\n",
       " {u'Bloomberg': u'NIMEHEU LX'},\n",
       " {u'Bloomberg': u'EUR003M'},\n",
       " {u'Bloomberg': u'DEXHISI LX'},\n",
       " {u'Bloomberg': u'GAMSCOE ID'},\n",
       " {u'Bloomberg': u'AFCGIEC LX'},\n",
       " {u'Bloomberg': u'SPIFELT LX'},\n",
       " {u'Bloomberg': u'LDNCACI LX'},\n",
       " {u'Bloomberg': u'JGGLCIE LX'},\n",
       " {u'Bloomberg': u'CARCONV FP'},\n",
       " {u'Bloomberg': u'PAEUSIC LX'},\n",
       " {u'Bloomberg': u'PARECPC LX'}]"
      ]
     },
     "execution_count": 21,
     "metadata": {},
     "output_type": "execute_result"
    }
   ],
   "source": [
    "store.list_securities()"
   ]
  },
  {
   "cell_type": "code",
   "execution_count": 15,
   "metadata": {},
   "outputs": [
    {
     "name": "stdout",
     "output_type": "stream",
     "text": [
      "{\n",
      "    \"ccy\": \"EUR\", \n",
      "    \"geography\": \"Global\", \n",
      "    \"identifiers\": {\n",
      "        \"Bloomberg\": \"LDNCACI LX\"\n",
      "    }, \n",
      "    \"name\": \"DNCA Invest Convertibles\", \n",
      "    \"strategy\": \"Convertible\", \n",
      "    \"type\": \"Fund\"\n",
      "}\n"
     ]
    }
   ],
   "source": [
    "#Create dictionary for the search\n",
    "search_dict = {}\n",
    "search_dict['identifier'] = 'Bloomberg'\n",
    "search_dict['value']='LDNCACI LX'\n",
    "\n",
    "result = store.getSecurity(search_dict)\n",
    "result.describe()\n"
   ]
  },
  {
   "cell_type": "code",
   "execution_count": 19,
   "metadata": {},
   "outputs": [
    {
     "name": "stdout",
     "output_type": "stream",
     "text": [
      "{\n",
      "    \"ccy\": \"EUR\", \n",
      "    \"geography\": \"Global\", \n",
      "    \"identifiers\": {\n",
      "        \"Bloomberg\": \"AFCGIEC LX\"\n",
      "    }, \n",
      "    \"name\": \"Amundi Funds Convertible Credit\", \n",
      "    \"strategy\": \"Convertible\", \n",
      "    \"type\": \"Fund\"\n",
      "}\n",
      "None\n",
      "{\n",
      "    \"ccy\": \"EUR\", \n",
      "    \"geography\": \"Global\", \n",
      "    \"identifiers\": {\n",
      "        \"Bloomberg\": \"LDNCACI LX\"\n",
      "    }, \n",
      "    \"name\": \"DNCA Invest Convertibles\", \n",
      "    \"strategy\": \"Convertible\", \n",
      "    \"type\": \"Fund\"\n",
      "}\n",
      "None\n",
      "{\n",
      "    \"ccy\": \"EUR\", \n",
      "    \"geography\": \"Global\", \n",
      "    \"identifiers\": {\n",
      "        \"Bloomberg\": \"JGGLCIE LX\"\n",
      "    }, \n",
      "    \"name\": \"Jupiter Global Fund Global Convertibles\", \n",
      "    \"strategy\": \"Convertible\", \n",
      "    \"type\": \"Fund\"\n",
      "}\n",
      "None\n",
      "{\n",
      "    \"ccy\": \"EUR\", \n",
      "    \"geography\": \"Europe\", \n",
      "    \"identifiers\": {\n",
      "        \"Bloomberg\": \"CARCONV FP\"\n",
      "    }, \n",
      "    \"name\": \"Camgestion Convertibles Europe\", \n",
      "    \"strategy\": \"Convertible\", \n",
      "    \"type\": \"Fund\"\n",
      "}\n",
      "None\n",
      "{\n",
      "    \"ccy\": \"EUR\", \n",
      "    \"geography\": \"Europe\", \n",
      "    \"identifiers\": {\n",
      "        \"Bloomberg\": \"PAEUSIC LX\"\n",
      "    }, \n",
      "    \"name\": \"Parvest Convertible Bond Europe\", \n",
      "    \"strategy\": \"Convertible\", \n",
      "    \"type\": \"Fund\"\n",
      "}\n",
      "None\n"
     ]
    }
   ],
   "source": [
    "#Create dictionary for the search\n",
    "search_dict = {}\n",
    "search_dict['strategy']='Convertible'\n",
    "\n",
    "result = store.getSecurityFromMetadata(search_dict)\n",
    "\n",
    "for i in result:\n",
    "    print i.describe()\n"
   ]
  },
  {
   "cell_type": "code",
   "execution_count": 32,
   "metadata": {},
   "outputs": [],
   "source": [
    "#Create the identifier dictionary\n",
    "id_dict = {}\n",
    "id_dict['Bloomberg']='NIMEHEU LX'\n",
    "\n",
    "#Create the metadata dict\n",
    "meta_dict = {}\n",
    "meta_dict['type'] = 'Fund'\n",
    "meta_dict['name'] = 'Nordea 1 SICAV – European High Yield Bond Fund'\n",
    "meta_dict['geography'] = 'Europe'\n",
    "meta_dict['ccy'] = 'EUR'\n",
    "meta_dict['theme'] = 'High Yield'\n",
    "\n",
    "#Create the security in the DB\n",
    "store.createSecurity(id_dict, meta_dict, livedate=datetime.datetime(2006, 1, 4, 0, 0, 0, 0))"
   ]
  },
  {
   "cell_type": "code",
   "execution_count": 33,
   "metadata": {
    "collapsed": true
   },
   "outputs": [],
   "source": [
    "#Create the identifier dictionary\n",
    "id_dict = {}\n",
    "id_dict['Bloomberg']='ABEEHYA LX'\n",
    "\n",
    "#Create the metadata dict\n",
    "meta_dict = {}\n",
    "meta_dict['type'] = 'Fund'\n",
    "meta_dict['name'] = 'Aberdeen Global – Select Euro High Yield Bond Fund'\n",
    "meta_dict['geography'] = 'Europe'\n",
    "meta_dict['ccy'] = 'EUR'\n",
    "meta_dict['theme'] = 'High Yield'\n",
    "\n",
    "#Create the security in the DB\n",
    "store.createSecurity(id_dict, meta_dict, livedate=datetime.datetime(2000, 10, 23, 0, 0, 0, 0))"
   ]
  },
  {
   "cell_type": "code",
   "execution_count": 34,
   "metadata": {
    "collapsed": true
   },
   "outputs": [],
   "source": [
    "#Create the identifier dictionary\n",
    "id_dict = {}\n",
    "id_dict['Bloomberg']='DEHYCLC LX'\n",
    "\n",
    "#Create the metadata dict\n",
    "meta_dict = {}\n",
    "meta_dict['type'] = 'Fund'\n",
    "meta_dict['name'] = 'DWS Invest – Euro High Yield Corporates'\n",
    "meta_dict['geography'] = 'Europe'\n",
    "meta_dict['ccy'] = 'EUR'\n",
    "meta_dict['theme'] = 'High Yield'\n",
    "\n",
    "#Create the security in the DB\n",
    "store.createSecurity(id_dict, meta_dict, livedate=datetime.datetime(2012, 7, 30, 0, 0, 0, 0))"
   ]
  },
  {
   "cell_type": "code",
   "execution_count": 35,
   "metadata": {
    "collapsed": true
   },
   "outputs": [],
   "source": [
    "#Create the identifier dictionary\n",
    "id_dict = {}\n",
    "id_dict['Bloomberg']='SBCEHBI LX'\n",
    "\n",
    "#Create the metadata dict\n",
    "meta_dict = {}\n",
    "meta_dict['type'] = 'Fund'\n",
    "meta_dict['name'] = 'UBS – Bond Euro High Yield'\n",
    "meta_dict['geography'] = 'Europe'\n",
    "meta_dict['ccy'] = 'EUR'\n",
    "meta_dict['theme'] = 'High Yield'\n",
    "\n",
    "#Create the security in the DB\n",
    "store.createSecurity(id_dict, meta_dict, livedate=datetime.datetime(1998, 5, 15, 0, 0, 0, 0))"
   ]
  },
  {
   "cell_type": "code",
   "execution_count": 36,
   "metadata": {
    "collapsed": true
   },
   "outputs": [],
   "source": [
    "#Create the identifier dictionary\n",
    "id_dict = {}\n",
    "id_dict['Bloomberg']='EUR003M'\n",
    "\n",
    "#Create the metadata dict\n",
    "meta_dict = {}\n",
    "meta_dict['type'] = 'Index'\n",
    "meta_dict['name'] = 'Euribor 3 Month ACT/360'\n",
    "meta_dict['ccy'] = 'EUR'\n",
    "\n",
    "#Create the security in the DB\n",
    "store.createSecurity(id_dict, meta_dict, livedate=datetime.datetime(1998, 12, 30, 0, 0, 0, 0))"
   ]
  },
  {
   "cell_type": "code",
   "execution_count": null,
   "metadata": {
    "collapsed": true
   },
   "outputs": [],
   "source": []
  }
 ],
 "metadata": {
  "kernelspec": {
   "display_name": "Python 3",
   "language": "python",
   "name": "python3"
  },
  "language_info": {
   "codemirror_mode": {
    "name": "ipython",
    "version": 3
   },
   "file_extension": ".py",
   "mimetype": "text/x-python",
   "name": "python",
   "nbconvert_exporter": "python",
   "pygments_lexer": "ipython3",
   "version": "3.6.3"
  }
 },
 "nbformat": 4,
 "nbformat_minor": 1
}
